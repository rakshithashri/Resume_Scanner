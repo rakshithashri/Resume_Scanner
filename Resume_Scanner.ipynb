{
  "nbformat": 4,
  "nbformat_minor": 0,
  "metadata": {
    "colab": {
      "provenance": [],
      "authorship_tag": "ABX9TyPijy/xm1bB9rAwuwFuxkb3",
      "include_colab_link": true
    },
    "kernelspec": {
      "name": "python3",
      "display_name": "Python 3"
    },
    "language_info": {
      "name": "python"
    }
  },
  "cells": [
    {
      "cell_type": "markdown",
      "metadata": {
        "id": "view-in-github",
        "colab_type": "text"
      },
      "source": [
        "<a href=\"https://colab.research.google.com/github/rakshithashri/Resume_Scanner/blob/main/Resume_Scanner.ipynb\" target=\"_parent\"><img src=\"https://colab.research.google.com/assets/colab-badge.svg\" alt=\"Open In Colab\"/></a>"
      ]
    },
    {
      "cell_type": "code",
      "execution_count": null,
      "metadata": {
        "colab": {
          "base_uri": "https://localhost:8080/"
        },
        "id": "B2ZYYoh5biJ_",
        "outputId": "68c447a7-b25d-46f9-bc30-d277fbf2171a"
      },
      "outputs": [
        {
          "output_type": "stream",
          "name": "stdout",
          "text": [
            "Collecting docx2txt\n",
            "  Downloading docx2txt-0.8.tar.gz (2.8 kB)\n",
            "  Preparing metadata (setup.py) ... \u001b[?25l\u001b[?25hdone\n",
            "Building wheels for collected packages: docx2txt\n",
            "  Building wheel for docx2txt (setup.py) ... \u001b[?25l\u001b[?25hdone\n",
            "  Created wheel for docx2txt: filename=docx2txt-0.8-py3-none-any.whl size=3960 sha256=306a053524cee7b65e5feaa117d49e41d4d99943a1883af68579999647c358a6\n",
            "  Stored in directory: /root/.cache/pip/wheels/22/58/cf/093d0a6c3ecfdfc5f6ddd5524043b88e59a9a199cb02352966\n",
            "Successfully built docx2txt\n",
            "Installing collected packages: docx2txt\n",
            "Successfully installed docx2txt-0.8\n"
          ]
        }
      ],
      "source": [
        "! pip install docx2txt\n",
        "import docx2txt"
      ]
    },
    {
      "cell_type": "markdown",
      "source": [],
      "metadata": {
        "id": "maxLT6Vnl-YG"
      }
    },
    {
      "cell_type": "code",
      "source": [
        "print(resume)"
      ],
      "metadata": {
        "colab": {
          "base_uri": "https://localhost:8080/"
        },
        "id": "X7J9oCbwc_CJ",
        "outputId": "59f819ba-73a0-4980-a2cd-2ed42b3dab65"
      },
      "execution_count": null,
      "outputs": [
        {
          "output_type": "stream",
          "name": "stdout",
          "text": [
            "RAKSHITHA SHRI R\n",
            "\n",
            "+91 8904048358 |  rakshithashri2803@gmail.com https://www.linkedin.com/in/rakshitha-shri-71714622a/ | https://github.com/rakshithashri/\n",
            "\n",
            "\tWORK EXPERIENCE\t\n",
            "\n",
            "\t\tIntern at Samsung Innovation Campus \tJan 2024– May 2024\n",
            "\n",
            "\t\tDeveloped a soil moisture monitoring system using Raspberry Pi, equipped with a web-based interface using HTML, CSS, JavaScript. The system provides real-time display of soil moisture levels and issues alerts when watering is required. By accurately measuring and displaying moisture data, it ensures precise watering, enhancing efficient water usage. This project optimizes plant growth by maintaining the ideal moisture level and can potentially integrate with automated irrigation systems for further efficiency.\n",
            "\n",
            "\t\tIntern at Tech A Intern \tNov 2023 – Dec 2023\n",
            "\n",
            "Created a personal portfolio website using HTML and CSS to establish an online presence. The website features an introduction, showcases my skills, education, and work experience, and includes contact information. It includes a responsive design with a navigation menu, downloadable CV, and visually appealing layout with images. This project enhanced my proficiency in web development fundamentals, demonstrating my ability to build user-friendly and aesthetically pleasing websites.\n",
            "\n",
            "\tSKILLS\t\n",
            "\n",
            "\t\tProgramming Languages:\tJava, C , C++,C# (.NET FRAMEWORK) and Python\n",
            "\n",
            "\t\tCourse works:\tWeb Development Boot Camp ( Udemy), Python Boot Camp (Udemy),\n",
            "\n",
            "\t\t                                                          Machine Learning A-Z: AI & Python(Udemy), Java Full Stack Web Development\n",
            "\n",
            "\t\t                                                          by TNSIF - Capgemini (Ongoing) \n",
            "\n",
            "\t\tFront-end :\tHTML ,CSS , JavaScript\n",
            "\n",
            "\t\tDatabases:\tMySQL, PostgreSQL\n",
            "\n",
            "\t\tTools & Software:\tGit and GitHub, Docker, DevOps, System Design ,Excel\n",
            "\n",
            "\t\tSoftSkills:\tTeam Work Ability, Leadership Quality, Problem Solving and Strong Communication\n",
            "\n",
            "\t\tLibraries:\tPandas, NumPy, Scikit-Learn, Matplotlib, Scikit-Learn,Pytorch \n",
            "\n",
            "\t\tAchievement:                            Secured First Place for project and poster presentation in  Intra – College Hackathon      \n",
            "\n",
            "\tPROJECTS\t\n",
            "\n",
            "\tONLINE RAILWAY RESERVATION SYSTEM\n",
            "\n",
            "\t\tThe Railway Reservation System facilitates the passengers to inquire about the trains available on the basis of source and destination, Booking and Cancellation of tickets, inquire about the status of the booked ticket, etc.\n",
            "\n",
            "\tDesigned and coded the platform to allocate, manage, and de-allocate assets in SQL, HTML, CSS & JavaScript.\n",
            "\n",
            "\tAUTOMATED PARKING SYSTEM USING MACHINE LEARNING IN PYTHON\n",
            "\n",
            "\t\tThe primary objective of this project is to design and implement an intelligent parking system that optimizes space utilization, reduces congestion, and enhances user experience using Machine Learning.\n",
            "\n",
            "\tPERSONAL PORTFOLIO WEBSITE:\n",
            "\n",
            "\t\tDeveloped a personal portfolio website to establish an online presence. This project involved creating an introduction, showcasing skills, detailing education, and providing contact information. Utilized HTML and CSS to practice and reinforce the fundamentals of web development.\n",
            "\n",
            "\tMOBILE APP WITH PYTHON – APP DEVELOPMENT \n",
            "\n",
            "\t\tDeveloped a cross platform mobile application using python, leveraging kivy and kivyMD for a robust and attractive UI. Utilized Buildozer to convert python scripts into fully functional Android applications. The project covered everything from basic groundwork to advanced topics, including labels, layouts, images, and comprehensive app design principles.\n",
            "\n",
            "\tEDUCATION\t\n",
            "\n",
            "\t\tDON BOSCO INSTITUTE OF TECHNOLOGY\tDec 2021 – Ongoing Bachelor of Engineering in CSE(ARTIFICIAL INTELLIGENCE & MACHINE LEARNING) [8.9/10 CGPA]\n",
            "\n",
            "\t\t     Relevant Coursework: DSA, OOPs, DBMS, Computer Networks, Software Engineering \n",
            "\n",
            "\t\tGOODWILL PRE-UNIVERSITY COLLEGE\tJune 2019 – May 2021\n",
            "\n",
            "\tScience – PCMB\tII PUC Grade : 96%\n",
            "\n",
            "\tGOODWILL ENGLISH HIGH SCHOOL\n",
            "\n",
            "\t\tClass I to X\tX std Grade : 94.05%\tApril 2019\n"
          ]
        }
      ]
    },
    {
      "cell_type": "code",
      "source": [
        "content = [job_description , resume] # to check the match percetage between the 2 files"
      ],
      "metadata": {
        "id": "sIRCOUAKdHmX"
      },
      "execution_count": null,
      "outputs": []
    },
    {
      "cell_type": "code",
      "source": [
        "from sklearn.feature_extraction.text import CountVectorizer\n",
        "cv = CountVectorizer()\n",
        "matrix = cv.fit_transform(content)# converts file to vectors to know the match percentage"
      ],
      "metadata": {
        "id": "YBM48FHOd8V6"
      },
      "execution_count": null,
      "outputs": []
    },
    {
      "cell_type": "code",
      "source": [
        "from sklearn.metrics.pairwise import cosine_similarity\n",
        "similarity_matrix = cosine_similarity(matrix)"
      ],
      "metadata": {
        "id": "dZFwijCvfrrY"
      },
      "execution_count": null,
      "outputs": []
    },
    {
      "cell_type": "code",
      "source": [
        "print(similarity_matrix)"
      ],
      "metadata": {
        "colab": {
          "base_uri": "https://localhost:8080/"
        },
        "id": "Jxm6VNzVf2tX",
        "outputId": "151bb05f-704a-4c59-ad54-51c1af086616"
      },
      "execution_count": null,
      "outputs": [
        {
          "output_type": "stream",
          "name": "stdout",
          "text": [
            "[[1.        0.8449916]\n",
            " [0.8449916 1.       ]]\n"
          ]
        }
      ]
    },
    {
      "cell_type": "code",
      "source": [
        "print('Resume matches by: '+ str(similarity_matrix[1][0]*100)+ '%')"
      ],
      "metadata": {
        "colab": {
          "base_uri": "https://localhost:8080/"
        },
        "id": "7-iot9-Vf6z6",
        "outputId": "543aad70-c6fe-492f-fe68-2464fe36489e"
      },
      "execution_count": null,
      "outputs": [
        {
          "output_type": "stream",
          "name": "stdout",
          "text": [
            "Resume matches by: 84.49915988830415%\n"
          ]
        }
      ]
    }
  ]
}